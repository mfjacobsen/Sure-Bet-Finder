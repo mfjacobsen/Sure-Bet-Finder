{
 "cells": [
  {
   "cell_type": "code",
   "execution_count": 1,
   "id": "71ace55a",
   "metadata": {},
   "outputs": [],
   "source": [
    "import requests"
   ]
  },
  {
   "cell_type": "code",
   "execution_count": 2,
   "id": "64b018c6",
   "metadata": {},
   "outputs": [],
   "source": [
    "REGION = 'us'\n",
    "API_KEY = '9904d9c9a02fcb4dba3685607cda72a5'\n",
    "ODDS_FORMAT = 'decimal'\n"
   ]
  },
  {
   "cell_type": "code",
   "execution_count": 3,
   "id": "47482c3f",
   "metadata": {},
   "outputs": [],
   "source": [
    "# Gets the list of sports \n",
    "def get_sports(api_key=API_KEY):\n",
    "    url = f'https://api.the-odds-api.com/v4/sports?apiKey={api_key}'\n",
    "    r = requests.get(url).json()\n",
    "    return list(map(lambda sport: sport['key'], r))\n",
    "    "
   ]
  },
  {
   "cell_type": "code",
   "execution_count": 4,
   "id": "923e7b9e",
   "metadata": {},
   "outputs": [],
   "source": [
    "# Gets the odds for a sport\n",
    "def get_odds(sport_id, region=REGION, api_key=API_KEY, odds_format=ODDS_FORMAT):\n",
    "    url = f\"https://api.the-odds-api.com/v4/sports/{sport_id}/odds?regions={region}&oddsFormat={odds_format}&apiKey={api_key}\"\n",
    "    r = requests.get(url).json()\n",
    "    return r"
   ]
  },
  {
   "cell_type": "code",
   "execution_count": 5,
   "id": "89322aac",
   "metadata": {},
   "outputs": [],
   "source": [
    "# Processes the data in tidy format\n",
    "def process(sports):\n",
    "\n",
    "    # Formats datapoints as dictionaries and stores them in all_events\n",
    "    all_events = []\n",
    "    event_ids = []\n",
    "    for sport in sports:\n",
    "        for event in sports[sport]:\n",
    "            event_ids.append(event['id'])\n",
    "            for bookmaker in event['bookmakers']:\n",
    "                for market in bookmaker['markets']:\n",
    "                    for outcome in market['outcomes']:\n",
    "                        new_event = {}\n",
    "                        new_event['id'] = event['id']\n",
    "                        new_event['sport_title'] = event['sport_title']\n",
    "                        new_event['date'] = event['commence_time']\n",
    "                        new_event['bookmaker'] = bookmaker['title']\n",
    "                        new_event['market'] = market['key']\n",
    "                        new_event['outcome'] = outcome['name']\n",
    "                        new_event['price'] = outcome['price']\n",
    "                        all_events.append(new_event)\n",
    "    \n",
    "    return all_events , event_ids"
   ]
  },
  {
   "cell_type": "code",
   "execution_count": 6,
   "id": "89fac396",
   "metadata": {},
   "outputs": [],
   "source": [
    "def get_best_odds(event_id, events):\n",
    "    filter_events = list(filter(lambda event: event['id'] == event_id, events))\n",
    "    outcomes = set(list(map(lambda event: event['outcome'],filter_events)))\n",
    "    best_odds = []\n",
    "    total = 0\n",
    "    for outcome in outcomes:\n",
    "        filter_outcomes = list(filter(lambda event: event['outcome'] == outcome, filter_events))\n",
    "        best = max(filter_outcomes, key = lambda x: x['price'])\n",
    "        best_odds.append(best)\n",
    "        total += 1/best['price']\n",
    "    if total != 0:\n",
    "        return {\"sport_title\" : best_odds[0]['sport_title'],\n",
    "                \"date\": best_odds[0]['date'],\n",
    "                \"outcomes\": list(outcomes),\n",
    "                \"bets\": [{\"bookmaker\": odds['bookmaker'], \"outcome\": odds['outcome'], \"price\":odds['price']} \n",
    "                         for odds in best_odds],\n",
    "                \"return\": round(100-total*100, 3)}"
   ]
  },
  {
   "cell_type": "code",
   "execution_count": 7,
   "id": "96837647",
   "metadata": {},
   "outputs": [],
   "source": [
    "def print_odds(odds):\n",
    "    print(f\"Sport: {odds['sport_title']}\\n\")\n",
    "    outcomes = \", \".join(odds['outcomes'])\n",
    "    print(f\"Outcomes: {outcomes}, Date: {odds['date']}\\n\")\n",
    "    scaling_factor = 1 / sum(list(map(lambda x: 1/ x['price'], odds['bets'])))\n",
    "    for bets in odds['bets']:\n",
    "        bet_percentage = round(1/bets['price'] * scaling_factor,3)\n",
    "        print(f\"{bets['bookmaker']}, {bets['outcome']}, Bet Percentage: {bet_percentage}, Payout: {bets['price']}x\\n\")\n",
    "    print(f\"Sure Bet Return: {odds['return']/2}%\\n\\n\")"
   ]
  },
  {
   "cell_type": "code",
   "execution_count": 8,
   "id": "d3e08b74",
   "metadata": {
    "scrolled": false
   },
   "outputs": [
    {
     "ename": "TypeError",
     "evalue": "string indices must be integers, not 'str'",
     "output_type": "error",
     "traceback": [
      "\u001b[1;31m---------------------------------------------------------------------------\u001b[0m",
      "\u001b[1;31mTypeError\u001b[0m                                 Traceback (most recent call last)",
      "Cell \u001b[1;32mIn[8], line 5\u001b[0m\n\u001b[0;32m      2\u001b[0m sports_odds \u001b[38;5;241m=\u001b[39m {sport:get_odds(sport) \u001b[38;5;28;01mfor\u001b[39;00m sport \u001b[38;5;129;01min\u001b[39;00m get_sports()}\n\u001b[0;32m      4\u001b[0m \u001b[38;5;66;03m# Processes event data into a list of dictionaries\u001b[39;00m\n\u001b[1;32m----> 5\u001b[0m all_events, event_ids \u001b[38;5;241m=\u001b[39m \u001b[43mprocess\u001b[49m\u001b[43m(\u001b[49m\u001b[43msports_odds\u001b[49m\u001b[43m)\u001b[49m\n\u001b[0;32m      7\u001b[0m \u001b[38;5;66;03m# Finds and sorts the best odds for each event\u001b[39;00m\n\u001b[0;32m      8\u001b[0m best_odds \u001b[38;5;241m=\u001b[39m []\n",
      "Cell \u001b[1;32mIn[5], line 9\u001b[0m, in \u001b[0;36mprocess\u001b[1;34m(sports)\u001b[0m\n\u001b[0;32m      7\u001b[0m \u001b[38;5;28;01mfor\u001b[39;00m sport \u001b[38;5;129;01min\u001b[39;00m sports:\n\u001b[0;32m      8\u001b[0m     \u001b[38;5;28;01mfor\u001b[39;00m event \u001b[38;5;129;01min\u001b[39;00m sports[sport]:\n\u001b[1;32m----> 9\u001b[0m         event_ids\u001b[38;5;241m.\u001b[39mappend(\u001b[43mevent\u001b[49m\u001b[43m[\u001b[49m\u001b[38;5;124;43m'\u001b[39;49m\u001b[38;5;124;43mid\u001b[39;49m\u001b[38;5;124;43m'\u001b[39;49m\u001b[43m]\u001b[49m)\n\u001b[0;32m     10\u001b[0m         \u001b[38;5;28;01mfor\u001b[39;00m bookmaker \u001b[38;5;129;01min\u001b[39;00m event[\u001b[38;5;124m'\u001b[39m\u001b[38;5;124mbookmakers\u001b[39m\u001b[38;5;124m'\u001b[39m]:\n\u001b[0;32m     11\u001b[0m             \u001b[38;5;28;01mfor\u001b[39;00m market \u001b[38;5;129;01min\u001b[39;00m bookmaker[\u001b[38;5;124m'\u001b[39m\u001b[38;5;124mmarkets\u001b[39m\u001b[38;5;124m'\u001b[39m]:\n",
      "\u001b[1;31mTypeError\u001b[0m: string indices must be integers, not 'str'"
     ]
    }
   ],
   "source": [
    "# Gets the odds for all events in all sports\n",
    "sports_odds = {sport:get_odds(sport) for sport in get_sports()}\n",
    "\n",
    "# Processes event data into a list of dictionaries\n",
    "all_events, event_ids = process(sports_odds)\n",
    "\n",
    "# Finds and sorts the best odds for each event\n",
    "best_odds = []\n",
    "for event_id in event_ids:\n",
    "    best_odds_event = get_best_odds(event_id, all_events)\n",
    "    if best_odds_event is not None:\n",
    "        best_odds.append(best_odds_event) \n",
    "all_odds.sort(key = lambda x:x['return'],reverse=True)\n",
    "\n",
    "# Displays events with sure bet opportunites\n",
    "all_odds = list(filter(lambda odds: odds['return'] > 0, all_odds))\n",
    "for odds in all_odds:\n",
    "    print_odds(odds)"
   ]
  }
 ],
 "metadata": {
  "kernelspec": {
   "display_name": "Python 3 (ipykernel)",
   "language": "python",
   "name": "python3"
  },
  "language_info": {
   "codemirror_mode": {
    "name": "ipython",
    "version": 3
   },
   "file_extension": ".py",
   "mimetype": "text/x-python",
   "name": "python",
   "nbconvert_exporter": "python",
   "pygments_lexer": "ipython3",
   "version": "3.11.5"
  }
 },
 "nbformat": 4,
 "nbformat_minor": 5
}
